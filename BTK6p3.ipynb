{
  "nbformat": 4,
  "nbformat_minor": 0,
  "metadata": {
    "colab": {
      "provenance": []
    },
    "kernelspec": {
      "name": "python3",
      "display_name": "Python 3"
    },
    "language_info": {
      "name": "python"
    }
  },
  "cells": [
    {
      "cell_type": "code",
      "execution_count": null,
      "metadata": {
        "id": "1MEsfiLAGe4H"
      },
      "outputs": [],
      "source": [
        "import numpy as np\n",
        "import pandas as pd\n",
        "import matplotlib.pyplot as plt\n",
        "import seaborn as sns\n",
        "\n",
        "from sklearn.datasets import fetch_california_housing\n",
        "from sklearn.model_selection import train_test_split,GridSearchCV\n",
        "from sklearn.linear_model import LinearRegression,Ridge,Lasso,ElasticNet\n",
        "from sklearn.ensemble import RandomForestRegressor\n",
        "from sklearn.metrics import mean_squared_error, r2_score,mean_absolute_error"
      ]
    },
    {
      "cell_type": "code",
      "source": [
        "housing=fetch_california_housing()\n",
        "data=pd.DataFrame(housing.data,columns=housing.feature_names)\n",
        "X=housing.data\n",
        "y=housing.target"
      ],
      "metadata": {
        "id": "zhynniyZGr12"
      },
      "execution_count": null,
      "outputs": []
    },
    {
      "cell_type": "code",
      "source": [
        "X,y"
      ],
      "metadata": {
        "colab": {
          "base_uri": "https://localhost:8080/"
        },
        "id": "1DEuLrt6GvNE",
        "outputId": "251a488c-cbb4-4e8c-cb4c-9a88a52ac691"
      },
      "execution_count": null,
      "outputs": [
        {
          "output_type": "execute_result",
          "data": {
            "text/plain": [
              "(array([[   8.3252    ,   41.        ,    6.98412698, ...,    2.55555556,\n",
              "           37.88      , -122.23      ],\n",
              "        [   8.3014    ,   21.        ,    6.23813708, ...,    2.10984183,\n",
              "           37.86      , -122.22      ],\n",
              "        [   7.2574    ,   52.        ,    8.28813559, ...,    2.80225989,\n",
              "           37.85      , -122.24      ],\n",
              "        ...,\n",
              "        [   1.7       ,   17.        ,    5.20554273, ...,    2.3256351 ,\n",
              "           39.43      , -121.22      ],\n",
              "        [   1.8672    ,   18.        ,    5.32951289, ...,    2.12320917,\n",
              "           39.43      , -121.32      ],\n",
              "        [   2.3886    ,   16.        ,    5.25471698, ...,    2.61698113,\n",
              "           39.37      , -121.24      ]]),\n",
              " array([4.526, 3.585, 3.521, ..., 0.923, 0.847, 0.894]))"
            ]
          },
          "metadata": {},
          "execution_count": 74
        }
      ]
    },
    {
      "cell_type": "code",
      "source": [
        "from sklearn.preprocessing import StandardScaler\n",
        "scaler=StandardScaler()\n",
        "X=scaler.fit_transform(X)\n",
        "X"
      ],
      "metadata": {
        "colab": {
          "base_uri": "https://localhost:8080/"
        },
        "id": "5QOGtljcHUcr",
        "outputId": "b6ae84d1-a651-46be-f0d5-799f034f70db"
      },
      "execution_count": null,
      "outputs": [
        {
          "output_type": "execute_result",
          "data": {
            "text/plain": [
              "array([[ 2.34476576,  0.98214266,  0.62855945, ..., -0.04959654,\n",
              "         1.05254828, -1.32783522],\n",
              "       [ 2.33223796, -0.60701891,  0.32704136, ..., -0.09251223,\n",
              "         1.04318455, -1.32284391],\n",
              "       [ 1.7826994 ,  1.85618152,  1.15562047, ..., -0.02584253,\n",
              "         1.03850269, -1.33282653],\n",
              "       ...,\n",
              "       [-1.14259331, -0.92485123, -0.09031802, ..., -0.0717345 ,\n",
              "         1.77823747, -0.8237132 ],\n",
              "       [-1.05458292, -0.84539315, -0.04021111, ..., -0.09122515,\n",
              "         1.77823747, -0.87362627],\n",
              "       [-0.78012947, -1.00430931, -0.07044252, ..., -0.04368215,\n",
              "         1.75014627, -0.83369581]])"
            ]
          },
          "metadata": {},
          "execution_count": 75
        }
      ]
    },
    {
      "cell_type": "code",
      "source": [
        "x_train,x_test,y_train,y_test=train_test_split(X,y,test_size=0.2,random_state=42)"
      ],
      "metadata": {
        "id": "sX1q9I0eH8Nj"
      },
      "execution_count": null,
      "outputs": []
    },
    {
      "cell_type": "code",
      "source": [
        "alphas=[0.01,0.1,0.5]\n",
        "l1_ratios=[0.2,0.5,0.8]\n",
        "#1 e yaklaştıkça lassoya , 0 a yaklaştıkça ridge'e ağırlık veriyor\n",
        "\n",
        "for alpha in alphas:\n",
        "  for l1_ratio in l1_ratios:\n",
        "    model=ElasticNet(alpha=alpha,l1_ratio=l1_ratio)\n",
        "    model.fit(x_train,y_train)\n",
        "    y_pred=model.predict(x_test)\n",
        "\n",
        "    mse=mean_squared_error(y_test,y_pred)\n",
        "    mae=mean_absolute_error(y_test,y_pred)\n",
        "    r2=r2_score(y_test,y_pred)\n",
        "    selected_features=data.columns[model.coef_!=0]\n",
        "\n",
        "    print(f\"L1 ratio={l1_ratio}\")\n",
        "    print(f\"alpha={alpha},mse={mse},mae={mae} r2={r2}\")\n",
        "    print(f\"Seçilen Özellikler : {selected_features}\")"
      ],
      "metadata": {
        "colab": {
          "base_uri": "https://localhost:8080/"
        },
        "id": "N-byTFM4I3ri",
        "outputId": "18dcc9b5-db70-49f6-8036-082469c766ea"
      },
      "execution_count": null,
      "outputs": [
        {
          "output_type": "stream",
          "name": "stdout",
          "text": [
            "L1 ratio=0.2\n",
            "alpha=0.01,mse=0.5510110427948043,mae=0.5336421384228245 r2=0.5795121584602659\n",
            "Seçilen Özellikler : Index(['MedInc', 'HouseAge', 'AveRooms', 'AveBedrms', 'AveOccup', 'Latitude',\n",
            "       'Longitude'],\n",
            "      dtype='object')\n",
            "L1 ratio=0.5\n",
            "alpha=0.01,mse=0.5495847965164322,mae=0.5341801453569646 r2=0.5806005562826668\n",
            "Seçilen Özellikler : Index(['MedInc', 'HouseAge', 'AveRooms', 'AveBedrms', 'AveOccup', 'Latitude',\n",
            "       'Longitude'],\n",
            "      dtype='object')\n",
            "L1 ratio=0.8\n",
            "alpha=0.01,mse=0.5484609922720293,mae=0.5349085320231953 r2=0.5814581543784244\n",
            "Seçilen Özellikler : Index(['MedInc', 'HouseAge', 'AveRooms', 'AveBedrms', 'AveOccup', 'Latitude',\n",
            "       'Longitude'],\n",
            "      dtype='object')\n",
            "L1 ratio=0.2\n",
            "alpha=0.1,mse=0.6012225997661987,mae=0.5751717005116809 r2=0.541194688261917\n",
            "Seçilen Özellikler : Index(['MedInc', 'HouseAge', 'AveBedrms', 'AveOccup', 'Latitude', 'Longitude'], dtype='object')\n",
            "L1 ratio=0.5\n",
            "alpha=0.1,mse=0.6357612809406279,mae=0.5969669331767173 r2=0.5148375114202305\n",
            "Seçilen Özellikler : Index(['MedInc', 'HouseAge', 'Latitude', 'Longitude'], dtype='object')\n",
            "L1 ratio=0.8\n",
            "alpha=0.1,mse=0.6718371804017971,mae=0.6182701936775555 r2=0.4873072517377933\n",
            "Seçilen Özellikler : Index(['MedInc', 'HouseAge', 'Latitude'], dtype='object')\n",
            "L1 ratio=0.2\n",
            "alpha=0.5,mse=0.7637254753416247,mae=0.6738978210647283 r2=0.4171854069812204\n",
            "Seçilen Özellikler : Index(['MedInc', 'HouseAge', 'Latitude'], dtype='object')\n",
            "L1 ratio=0.5\n",
            "alpha=0.5,mse=0.8253387667569015,mae=0.7045101422000811 r2=0.3701670390988614\n",
            "Seçilen Özellikler : Index(['MedInc'], dtype='object')\n",
            "L1 ratio=0.8\n",
            "alpha=0.5,mse=0.8825615032061366,mae=0.7335781426361541 r2=0.32649919386931237\n",
            "Seçilen Özellikler : Index(['MedInc'], dtype='object')\n"
          ]
        }
      ]
    },
    {
      "cell_type": "markdown",
      "source": [
        "Lasso Regresyonu : özellikle multicollinearity sorunları olan ve çok sayıda değişken içeren veri setlerinde tercih edilir.Değişken seçimi yapar.\n",
        "\n",
        "Elastic Net Regresyonu : Ridge ve Lasso regresyonlarının en iyi özelliklerini hibritler.İki farklı düzenleme parametresine sahip.\n",
        "\n",
        "Random Forest Regresyonu : Farklı veri türlerini yönetme ve karar ağaçlarının gücünü ortaya koyarak güçlü ve esnek bir model sunar.\n",
        "\n",
        "Ridge Regresyonu : çoklu doğrusal regresyon modellerinde overfitting sorununu çözmek ve modellemede genellemeyi artırmak için kullanılır Düzenleme parametresi alfadır.Scaling yapılırsa daha iyi performans verir"
      ],
      "metadata": {
        "id": "2izuadSJMGxl"
      }
    },
    {
      "cell_type": "code",
      "source": [],
      "metadata": {
        "id": "nyZs5GjGMXdE"
      },
      "execution_count": null,
      "outputs": []
    }
  ]
}